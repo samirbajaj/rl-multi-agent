{
 "cells": [
  {
   "cell_type": "markdown",
   "metadata": {},
   "source": [
    "# Collaboration and Competition\n",
    "\n",
    "---\n",
    "\n",
    "In this notebook, you will learn how to use the Unity ML-Agents environment for the third project of the [Deep Reinforcement Learning Nanodegree](https://www.udacity.com/course/deep-reinforcement-learning-nanodegree--nd893) program.\n",
    "\n",
    "### 1. Start the Environment\n",
    "\n",
    "We begin by importing the necessary packages.  If the code cell below returns an error, please revisit the project instructions to double-check that you have installed [Unity ML-Agents](https://github.com/Unity-Technologies/ml-agents/blob/master/docs/Installation.md) and [NumPy](http://www.numpy.org/)."
   ]
  },
  {
   "cell_type": "code",
   "execution_count": 1,
   "metadata": {},
   "outputs": [],
   "source": [
    "from unityagents import UnityEnvironment\n",
    "from maddpg_agent import Agent\n",
    "from collections import deque\n",
    "from typing import List, Tuple\n",
    "import numpy as np\n",
    "import matplotlib.pyplot as plt\n",
    "import random\n",
    "import time\n",
    "import torch\n",
    "\n",
    "%matplotlib inline"
   ]
  },
  {
   "cell_type": "markdown",
   "metadata": {},
   "source": [
    "Next, we will start the environment!  **_Before running the code cell below_**, change the `file_name` parameter to match the location of the Unity environment that you downloaded.\n",
    "\n",
    "- **Mac**: `\"path/to/Tennis.app\"`\n",
    "- **Windows** (x86): `\"path/to/Tennis_Windows_x86/Tennis.exe\"`\n",
    "- **Windows** (x86_64): `\"path/to/Tennis_Windows_x86_64/Tennis.exe\"`\n",
    "- **Linux** (x86): `\"path/to/Tennis_Linux/Tennis.x86\"`\n",
    "- **Linux** (x86_64): `\"path/to/Tennis_Linux/Tennis.x86_64\"`\n",
    "- **Linux** (x86, headless): `\"path/to/Tennis_Linux_NoVis/Tennis.x86\"`\n",
    "- **Linux** (x86_64, headless): `\"path/to/Tennis_Linux_NoVis/Tennis.x86_64\"`\n",
    "\n",
    "For instance, if you are using a Mac, then you downloaded `Tennis.app`.  If this file is in the same folder as the notebook, then the line below should appear as follows:\n",
    "```\n",
    "env = UnityEnvironment(file_name=\"Tennis.app\")\n",
    "```"
   ]
  },
  {
   "cell_type": "code",
   "execution_count": 2,
   "metadata": {},
   "outputs": [
    {
     "name": "stderr",
     "output_type": "stream",
     "text": [
      "INFO:unityagents:\n",
      "'Academy' started successfully!\n",
      "Unity Academy name: Academy\n",
      "        Number of Brains: 1\n",
      "        Number of External Brains : 1\n",
      "        Lesson number : 0\n",
      "        Reset Parameters :\n",
      "\t\t\n",
      "Unity brain name: TennisBrain\n",
      "        Number of Visual Observations (per agent): 0\n",
      "        Vector Observation space type: continuous\n",
      "        Vector Observation space size (per agent): 8\n",
      "        Number of stacked Vector Observation: 3\n",
      "        Vector Action space type: continuous\n",
      "        Vector Action space size (per agent): 2\n",
      "        Vector Action descriptions: , \n"
     ]
    }
   ],
   "source": [
    "env = UnityEnvironment(file_name=\"Tennis_Linux/Tennis.x86_64\")"
   ]
  },
  {
   "cell_type": "markdown",
   "metadata": {},
   "source": [
    "Environments contain **_brains_** which are responsible for deciding the actions of their associated agents. Here we check for the first brain available, and set it as the default brain we will be controlling from Python."
   ]
  },
  {
   "cell_type": "code",
   "execution_count": 3,
   "metadata": {},
   "outputs": [],
   "source": [
    "# get the default brain\n",
    "brain_name = env.brain_names[0]\n",
    "brain = env.brains[brain_name]"
   ]
  },
  {
   "cell_type": "markdown",
   "metadata": {},
   "source": [
    "### 2. Examine the State and Action Spaces\n",
    "\n",
    "In this environment, two agents control rackets to bounce a ball over a net. If an agent hits the ball over the net, it receives a reward of +0.1.  If an agent lets a ball hit the ground or hits the ball out of bounds, it receives a reward of -0.01.  Thus, the goal of each agent is to keep the ball in play.\n",
    "\n",
    "The observation space consists of 8 variables corresponding to the position and velocity of the ball and racket. Two continuous actions are available, corresponding to movement toward (or away from) the net, and jumping. \n",
    "\n",
    "Run the code cell below to print some information about the environment."
   ]
  },
  {
   "cell_type": "code",
   "execution_count": 4,
   "metadata": {},
   "outputs": [
    {
     "name": "stdout",
     "output_type": "stream",
     "text": [
      "Number of agents: 2\n",
      "Size of each action: 2\n",
      "There are 2 agents. Each observes a state with length: 24\n",
      "The state for the first agent looks like: [ 0.          0.          0.          0.          0.          0.\n",
      "  0.          0.          0.          0.          0.          0.\n",
      "  0.          0.          0.          0.         -6.65278625 -1.5\n",
      " -0.          0.          6.83172083  6.         -0.          0.        ]\n"
     ]
    }
   ],
   "source": [
    "# reset the environment\n",
    "env_info = env.reset(train_mode=True)[brain_name]\n",
    "\n",
    "# number of agents \n",
    "num_agents = len(env_info.agents)\n",
    "print('Number of agents:', num_agents)\n",
    "\n",
    "# size of each action\n",
    "action_size = brain.vector_action_space_size\n",
    "print('Size of each action:', action_size)\n",
    "\n",
    "# examine the state space \n",
    "states = env_info.vector_observations\n",
    "state_size = states.shape[1]\n",
    "print('There are {} agents. Each observes a state with length: {}'.format(states.shape[0], state_size))\n",
    "print('The state for the first agent looks like:', states[0])"
   ]
  },
  {
   "cell_type": "markdown",
   "metadata": {},
   "source": [
    "### 3. Take Random Actions in the Environment\n",
    "\n",
    "In the next code cell, you will learn how to use the Python API to control the agents and receive feedback from the environment.\n",
    "\n",
    "Once this cell is executed, you will watch the agents' performance, if they select actions at random with each time step.  A window should pop up that allows you to observe the agents.\n",
    "\n",
    "Of course, as part of the project, you'll have to change the code so that the agents are able to use their experiences to gradually choose better actions when interacting with the environment!"
   ]
  },
  {
   "cell_type": "code",
   "execution_count": null,
   "metadata": {},
   "outputs": [],
   "source": [
    "for i in range(1, 6):                                      # play game for 5 episodes\n",
    "    env_info = env.reset(train_mode=False)[brain_name]     # reset the environment    \n",
    "    states = env_info.vector_observations                  # get the current state (for each agent)\n",
    "    scores = np.zeros(num_agents)                          # initialize the score (for each agent)\n",
    "    while True:\n",
    "        actions = np.random.randn(num_agents, action_size) # select an action (for each agent)\n",
    "        actions = np.clip(actions, -1, 1)                  # all actions between -1 and 1\n",
    "        env_info = env.step(actions)[brain_name]           # send all actions to tne environment\n",
    "        next_states = env_info.vector_observations         # get next state (for each agent)\n",
    "        rewards = env_info.rewards                         # get reward (for each agent)\n",
    "        dones = env_info.local_done                        # see if episode finished\n",
    "        scores += env_info.rewards                         # update the score (for each agent)\n",
    "        states = next_states                               # roll over states to next time step\n",
    "        if np.any(dones):                                  # exit loop if episode finished\n",
    "            break\n",
    "    print('Score (max over agents) from episode {}: {}'.format(i, np.max(scores)))"
   ]
  },
  {
   "cell_type": "markdown",
   "metadata": {},
   "source": [
    "When finished, you can close the environment."
   ]
  },
  {
   "cell_type": "code",
   "execution_count": null,
   "metadata": {},
   "outputs": [],
   "source": [
    "#env.close()"
   ]
  },
  {
   "cell_type": "markdown",
   "metadata": {},
   "source": [
    "### 4. It's Your Turn!\n",
    "\n",
    "Now it's your turn to train your own agent to solve the environment!  When training the environment, set `train_mode=True`, so that the line for resetting the environment looks like the following:\n",
    "```python\n",
    "env_info = env.reset(train_mode=True)[brain_name]\n",
    "```"
   ]
  },
  {
   "cell_type": "code",
   "execution_count": 6,
   "metadata": {},
   "outputs": [],
   "source": [
    "# initialize agents\n",
    "agent_0 = Agent(state_size, action_size)\n",
    "agent_1 = Agent(state_size, action_size)\n",
    "\n",
    "\n",
    "def train_maddpg(n_episodes: int=2000, max_t: int=1000) -> Tuple[List[float], List[float]]:\n",
    "    \"\"\"Multi-Agent Deep Deterministic Policy Gradient (MADDPG)\n",
    "\n",
    "        :param n_episodes: maximum number of training episodes\n",
    "        :param max_t: maximum number of timesteps per episode\n",
    "    \"\"\"\n",
    "    scores_window = deque(maxlen=100)\n",
    "    scores_all = []\n",
    "    moving_average = []   \n",
    "    best_score = -np.inf\n",
    "\n",
    "    for i_episode in range(1, n_episodes+1):\n",
    "        env_info = env.reset(train_mode=True)[brain_name]         # reset the environment\n",
    "        states = np.reshape(env_info.vector_observations, (1,48)) # get states and combine them\n",
    "        agent_0.reset()\n",
    "        agent_1.reset()\n",
    "        scores = np.zeros(num_agents)\n",
    "        while True:\n",
    "            actions = get_actions(states, add_noise=True)      # choose agent actions and combine them\n",
    "            env_info = env.step(actions)[brain_name]    # send both agents' actions together to the environment\n",
    "            next_states = np.reshape(env_info.vector_observations, (1, 48)) # combine the agent next states\n",
    "            rewards = env_info.rewards                         # get reward\n",
    "            done = env_info.local_done                         # see if episode finished\n",
    "            agent_0.step(states, actions, rewards[0], next_states, done, 0) # agent 1 learns\n",
    "            agent_1.step(states, actions, rewards[1], next_states, done, 1) # agent 2 learns\n",
    "            scores += np.max(rewards)                          # update the score for each agent\n",
    "            states = next_states                               # roll over states to next time step\n",
    "            if np.any(done):                                   # exit loop if episode finished\n",
    "                break\n",
    "\n",
    "        ep_best_score = np.max(scores)\n",
    "        scores_window.append(ep_best_score)\n",
    "        scores_all.append(ep_best_score)\n",
    "        moving_average.append(np.mean(scores_window))\n",
    "        \n",
    "        # print results every 10 episodes\n",
    "        if i_episode % 10 == 0:\n",
    "            print('Episodes {:0>4d}-{:0>4d}\\tMax Reward: {:.3f}\\tMoving Average: {:.3f}'.format(\n",
    "                i_episode-10, i_episode, np.max(scores_all[-10:]), moving_average[-1]))\n",
    "\n",
    "        # determine if environment is solved and save the models\n",
    "        if moving_average[-1] >= 0.5:\n",
    "            print('*** Environment solved in {:d} episodes: Moving Average: {:.3f} over past {:d} episodes'\n",
    "                  .format(i_episode-100, moving_average[-1], 100))\n",
    "            # save weights\n",
    "            torch.save(agent_0.actor_local.state_dict(), 'checkpoint_actor_0.pth')\n",
    "            torch.save(agent_0.critic_local.state_dict(), 'checkpoint_critic_0.pth')\n",
    "            torch.save(agent_1.actor_local.state_dict(), 'checkpoint_actor_1.pth')\n",
    "            torch.save(agent_1.critic_local.state_dict(), 'checkpoint_critic_1.pth')\n",
    "            break\n",
    "            \n",
    "    return scores_all, moving_average"
   ]
  },
  {
   "cell_type": "code",
   "execution_count": 7,
   "metadata": {},
   "outputs": [],
   "source": [
    "def get_actions(states, add_noise):\n",
    "    \"\"\"gets actions for each agent and then combines them into one array\"\"\"\n",
    "    action_0 = agent_0.act(states, add_noise)    # agent 0 chooses an action\n",
    "    action_1 = agent_1.act(states, add_noise)    # agent 1 chooses an action\n",
    "    return np.concatenate((action_0, action_1), axis=0).flatten()"
   ]
  },
  {
   "cell_type": "code",
   "execution_count": 8,
   "metadata": {},
   "outputs": [
    {
     "name": "stdout",
     "output_type": "stream",
     "text": [
      "Episodes 0000-0010\tMax Reward: 0.000\tMoving Average: 0.000\n",
      "Episodes 0010-0020\tMax Reward: 0.000\tMoving Average: 0.000\n",
      "Episodes 0020-0030\tMax Reward: 0.000\tMoving Average: 0.000\n",
      "Episodes 0030-0040\tMax Reward: 0.100\tMoving Average: 0.003\n",
      "Episodes 0040-0050\tMax Reward: 0.100\tMoving Average: 0.004\n",
      "Episodes 0050-0060\tMax Reward: 0.100\tMoving Average: 0.007\n",
      "Episodes 0060-0070\tMax Reward: 0.100\tMoving Average: 0.009\n",
      "Episodes 0070-0080\tMax Reward: 0.100\tMoving Average: 0.013\n",
      "Episodes 0080-0090\tMax Reward: 0.300\tMoving Average: 0.021\n",
      "Episodes 0090-0100\tMax Reward: 0.100\tMoving Average: 0.022\n",
      "Episodes 0100-0110\tMax Reward: 0.200\tMoving Average: 0.027\n",
      "Episodes 0110-0120\tMax Reward: 0.200\tMoving Average: 0.030\n",
      "Episodes 0120-0130\tMax Reward: 0.100\tMoving Average: 0.031\n",
      "Episodes 0130-0140\tMax Reward: 0.100\tMoving Average: 0.032\n",
      "Episodes 0140-0150\tMax Reward: 0.300\tMoving Average: 0.036\n",
      "Episodes 0150-0160\tMax Reward: 0.100\tMoving Average: 0.036\n",
      "Episodes 0160-0170\tMax Reward: 0.300\tMoving Average: 0.040\n",
      "Episodes 0170-0180\tMax Reward: 0.100\tMoving Average: 0.038\n",
      "Episodes 0180-0190\tMax Reward: 0.200\tMoving Average: 0.032\n",
      "Episodes 0190-0200\tMax Reward: 0.300\tMoving Average: 0.034\n",
      "Episodes 0200-0210\tMax Reward: 0.000\tMoving Average: 0.029\n",
      "Episodes 0210-0220\tMax Reward: 0.100\tMoving Average: 0.027\n",
      "Episodes 0220-0230\tMax Reward: 0.300\tMoving Average: 0.031\n",
      "Episodes 0230-0240\tMax Reward: 0.200\tMoving Average: 0.035\n",
      "Episodes 0240-0250\tMax Reward: 0.100\tMoving Average: 0.031\n",
      "Episodes 0250-0260\tMax Reward: 0.100\tMoving Average: 0.033\n",
      "Episodes 0260-0270\tMax Reward: 0.100\tMoving Average: 0.031\n",
      "Episodes 0270-0280\tMax Reward: 0.200\tMoving Average: 0.038\n",
      "Episodes 0280-0290\tMax Reward: 0.300\tMoving Average: 0.040\n",
      "Episodes 0290-0300\tMax Reward: 0.100\tMoving Average: 0.040\n",
      "Episodes 0300-0310\tMax Reward: 0.100\tMoving Average: 0.041\n",
      "Episodes 0310-0320\tMax Reward: 0.200\tMoving Average: 0.042\n",
      "Episodes 0320-0330\tMax Reward: 0.200\tMoving Average: 0.044\n",
      "Episodes 0330-0340\tMax Reward: 0.200\tMoving Average: 0.044\n",
      "Episodes 0340-0350\tMax Reward: 0.100\tMoving Average: 0.047\n",
      "Episodes 0350-0360\tMax Reward: 0.200\tMoving Average: 0.056\n",
      "Episodes 0360-0370\tMax Reward: 0.400\tMoving Average: 0.062\n",
      "Episodes 0370-0380\tMax Reward: 0.200\tMoving Average: 0.058\n",
      "Episodes 0380-0390\tMax Reward: 0.100\tMoving Average: 0.055\n",
      "Episodes 0390-0400\tMax Reward: 0.200\tMoving Average: 0.055\n",
      "Episodes 0400-0410\tMax Reward: 0.200\tMoving Average: 0.060\n",
      "Episodes 0410-0420\tMax Reward: 0.400\tMoving Average: 0.076\n",
      "Episodes 0420-0430\tMax Reward: 0.200\tMoving Average: 0.082\n",
      "Episodes 0430-0440\tMax Reward: 0.500\tMoving Average: 0.092\n",
      "Episodes 0440-0450\tMax Reward: 0.300\tMoving Average: 0.098\n",
      "Episodes 0450-0460\tMax Reward: 0.600\tMoving Average: 0.104\n",
      "Episodes 0460-0470\tMax Reward: 0.100\tMoving Average: 0.100\n",
      "Episodes 0470-0480\tMax Reward: 0.100\tMoving Average: 0.102\n",
      "Episodes 0480-0490\tMax Reward: 0.200\tMoving Average: 0.108\n",
      "Episodes 0490-0500\tMax Reward: 0.200\tMoving Average: 0.110\n",
      "Episodes 0500-0510\tMax Reward: 0.200\tMoving Average: 0.115\n",
      "Episodes 0510-0520\tMax Reward: 0.300\tMoving Average: 0.107\n",
      "Episodes 0520-0530\tMax Reward: 0.200\tMoving Average: 0.104\n",
      "Episodes 0530-0540\tMax Reward: 0.200\tMoving Average: 0.098\n",
      "Episodes 0540-0550\tMax Reward: 0.200\tMoving Average: 0.098\n",
      "Episodes 0550-0560\tMax Reward: 0.700\tMoving Average: 0.094\n",
      "Episodes 0560-0570\tMax Reward: 0.700\tMoving Average: 0.106\n",
      "Episodes 0570-0580\tMax Reward: 0.200\tMoving Average: 0.106\n",
      "Episodes 0580-0590\tMax Reward: 0.500\tMoving Average: 0.114\n",
      "Episodes 0590-0600\tMax Reward: 0.300\tMoving Average: 0.124\n",
      "Episodes 0600-0610\tMax Reward: 0.700\tMoving Average: 0.148\n",
      "Episodes 0610-0620\tMax Reward: 1.400\tMoving Average: 0.162\n",
      "Episodes 0620-0630\tMax Reward: 1.000\tMoving Average: 0.170\n",
      "Episodes 0630-0640\tMax Reward: 0.400\tMoving Average: 0.181\n",
      "Episodes 0640-0650\tMax Reward: 0.300\tMoving Average: 0.186\n",
      "Episodes 0650-0660\tMax Reward: 0.500\tMoving Average: 0.193\n",
      "Episodes 0660-0670\tMax Reward: 0.300\tMoving Average: 0.188\n",
      "Episodes 0670-0680\tMax Reward: 0.300\tMoving Average: 0.196\n",
      "Episodes 0680-0690\tMax Reward: 0.300\tMoving Average: 0.192\n",
      "Episodes 0690-0700\tMax Reward: 0.200\tMoving Average: 0.183\n",
      "Episodes 0700-0710\tMax Reward: 0.300\tMoving Average: 0.160\n",
      "Episodes 0710-0720\tMax Reward: 0.500\tMoving Average: 0.155\n",
      "Episodes 0720-0730\tMax Reward: 0.600\tMoving Average: 0.163\n",
      "Episodes 0730-0740\tMax Reward: 1.000\tMoving Average: 0.171\n",
      "Episodes 0740-0750\tMax Reward: 0.400\tMoving Average: 0.169\n",
      "Episodes 0750-0760\tMax Reward: 0.200\tMoving Average: 0.161\n",
      "Episodes 0760-0770\tMax Reward: 0.300\tMoving Average: 0.163\n",
      "Episodes 0770-0780\tMax Reward: 0.300\tMoving Average: 0.166\n",
      "Episodes 0780-0790\tMax Reward: 0.300\tMoving Average: 0.172\n",
      "Episodes 0790-0800\tMax Reward: 0.400\tMoving Average: 0.190\n",
      "Episodes 0800-0810\tMax Reward: 0.400\tMoving Average: 0.200\n",
      "Episodes 0810-0820\tMax Reward: 0.500\tMoving Average: 0.204\n",
      "Episodes 0820-0830\tMax Reward: 0.400\tMoving Average: 0.202\n",
      "Episodes 0830-0840\tMax Reward: 1.100\tMoving Average: 0.211\n",
      "Episodes 0840-0850\tMax Reward: 0.300\tMoving Average: 0.215\n",
      "Episodes 0850-0860\tMax Reward: 0.500\tMoving Average: 0.223\n",
      "Episodes 0860-0870\tMax Reward: 0.300\tMoving Average: 0.225\n",
      "Episodes 0870-0880\tMax Reward: 0.500\tMoving Average: 0.232\n",
      "Episodes 0880-0890\tMax Reward: 0.600\tMoving Average: 0.244\n",
      "Episodes 0890-0900\tMax Reward: 0.400\tMoving Average: 0.238\n",
      "Episodes 0900-0910\tMax Reward: 0.600\tMoving Average: 0.236\n",
      "Episodes 0910-0920\tMax Reward: 0.800\tMoving Average: 0.247\n",
      "Episodes 0920-0930\tMax Reward: 0.900\tMoving Average: 0.251\n",
      "Episodes 0930-0940\tMax Reward: 1.300\tMoving Average: 0.251\n",
      "Episodes 0940-0950\tMax Reward: 0.800\tMoving Average: 0.274\n",
      "Episodes 0950-0960\tMax Reward: 0.600\tMoving Average: 0.276\n",
      "Episodes 0960-0970\tMax Reward: 0.600\tMoving Average: 0.293\n",
      "Episodes 0970-0980\tMax Reward: 0.300\tMoving Average: 0.286\n",
      "Episodes 0980-0990\tMax Reward: 0.700\tMoving Average: 0.296\n",
      "Episodes 0990-1000\tMax Reward: 0.600\tMoving Average: 0.310\n",
      "Episodes 1000-1010\tMax Reward: 0.600\tMoving Average: 0.322\n",
      "Episodes 1010-1020\tMax Reward: 1.200\tMoving Average: 0.319\n",
      "Episodes 1020-1030\tMax Reward: 0.600\tMoving Average: 0.318\n",
      "Episodes 1030-1040\tMax Reward: 0.800\tMoving Average: 0.317\n",
      "Episodes 1040-1050\tMax Reward: 0.400\tMoving Average: 0.308\n",
      "Episodes 1050-1060\tMax Reward: 0.500\tMoving Average: 0.316\n",
      "Episodes 1060-1070\tMax Reward: 0.700\tMoving Average: 0.317\n",
      "Episodes 1070-1080\tMax Reward: 0.600\tMoving Average: 0.325\n",
      "Episodes 1080-1090\tMax Reward: 0.400\tMoving Average: 0.309\n",
      "Episodes 1090-1100\tMax Reward: 0.300\tMoving Average: 0.288\n",
      "Episodes 1100-1110\tMax Reward: 0.300\tMoving Average: 0.276\n",
      "Episodes 1110-1120\tMax Reward: 0.400\tMoving Average: 0.264\n",
      "Episodes 1120-1130\tMax Reward: 0.400\tMoving Average: 0.259\n",
      "Episodes 1130-1140\tMax Reward: 0.400\tMoving Average: 0.251\n",
      "Episodes 1140-1150\tMax Reward: 0.500\tMoving Average: 0.250\n",
      "Episodes 1150-1160\tMax Reward: 0.400\tMoving Average: 0.237\n",
      "Episodes 1160-1170\tMax Reward: 0.600\tMoving Average: 0.233\n",
      "Episodes 1170-1180\tMax Reward: 0.400\tMoving Average: 0.226\n",
      "Episodes 1180-1190\tMax Reward: 0.600\tMoving Average: 0.228\n",
      "Episodes 1190-1200\tMax Reward: 0.900\tMoving Average: 0.252\n",
      "Episodes 1200-1210\tMax Reward: 0.300\tMoving Average: 0.249\n",
      "Episodes 1210-1220\tMax Reward: 0.300\tMoving Average: 0.248\n",
      "Episodes 1220-1230\tMax Reward: 0.300\tMoving Average: 0.245\n",
      "Episodes 1230-1240\tMax Reward: 0.300\tMoving Average: 0.232\n",
      "Episodes 1240-1250\tMax Reward: 0.800\tMoving Average: 0.234\n",
      "Episodes 1250-1260\tMax Reward: 0.600\tMoving Average: 0.250\n",
      "Episodes 1260-1270\tMax Reward: 0.800\tMoving Average: 0.263\n",
      "Episodes 1270-1280\tMax Reward: 0.500\tMoving Average: 0.270\n",
      "Episodes 1280-1290\tMax Reward: 0.800\tMoving Average: 0.274\n",
      "Episodes 1290-1300\tMax Reward: 0.400\tMoving Average: 0.254\n",
      "Episodes 1300-1310\tMax Reward: 0.500\tMoving Average: 0.265\n",
      "Episodes 1310-1320\tMax Reward: 0.300\tMoving Average: 0.266\n",
      "Episodes 1320-1330\tMax Reward: 0.600\tMoving Average: 0.269\n",
      "Episodes 1330-1340\tMax Reward: 0.500\tMoving Average: 0.280\n",
      "Episodes 1340-1350\tMax Reward: 0.700\tMoving Average: 0.280\n",
      "Episodes 1350-1360\tMax Reward: 0.500\tMoving Average: 0.265\n",
      "Episodes 1360-1370\tMax Reward: 0.500\tMoving Average: 0.244\n",
      "Episodes 1370-1380\tMax Reward: 1.200\tMoving Average: 0.257\n",
      "Episodes 1380-1390\tMax Reward: 0.800\tMoving Average: 0.257\n"
     ]
    },
    {
     "name": "stdout",
     "output_type": "stream",
     "text": [
      "Episodes 1390-1400\tMax Reward: 0.800\tMoving Average: 0.273\n",
      "Episodes 1400-1410\tMax Reward: 0.800\tMoving Average: 0.277\n",
      "Episodes 1410-1420\tMax Reward: 1.100\tMoving Average: 0.285\n",
      "Episodes 1420-1430\tMax Reward: 1.000\tMoving Average: 0.305\n",
      "Episodes 1430-1440\tMax Reward: 0.800\tMoving Average: 0.304\n",
      "Episodes 1440-1450\tMax Reward: 1.000\tMoving Average: 0.306\n",
      "Episodes 1450-1460\tMax Reward: 0.300\tMoving Average: 0.299\n",
      "Episodes 1460-1470\tMax Reward: 0.600\tMoving Average: 0.304\n",
      "Episodes 1470-1480\tMax Reward: 0.400\tMoving Average: 0.289\n",
      "Episodes 1480-1490\tMax Reward: 0.500\tMoving Average: 0.280\n",
      "Episodes 1490-1500\tMax Reward: 0.700\tMoving Average: 0.278\n",
      "Episodes 1500-1510\tMax Reward: 0.500\tMoving Average: 0.270\n",
      "Episodes 1510-1520\tMax Reward: 0.600\tMoving Average: 0.274\n",
      "Episodes 1520-1530\tMax Reward: 0.600\tMoving Average: 0.264\n",
      "Episodes 1530-1540\tMax Reward: 0.600\tMoving Average: 0.273\n",
      "Episodes 1540-1550\tMax Reward: 0.600\tMoving Average: 0.254\n",
      "Episodes 1550-1560\tMax Reward: 0.300\tMoving Average: 0.250\n",
      "Episodes 1560-1570\tMax Reward: 0.300\tMoving Average: 0.237\n",
      "Episodes 1570-1580\tMax Reward: 0.200\tMoving Average: 0.219\n",
      "Episodes 1580-1590\tMax Reward: 0.300\tMoving Average: 0.206\n",
      "Episodes 1590-1600\tMax Reward: 0.400\tMoving Average: 0.186\n",
      "Episodes 1600-1610\tMax Reward: 0.800\tMoving Average: 0.189\n",
      "Episodes 1610-1620\tMax Reward: 0.500\tMoving Average: 0.180\n",
      "Episodes 1620-1630\tMax Reward: 0.700\tMoving Average: 0.170\n",
      "Episodes 1630-1640\tMax Reward: 1.100\tMoving Average: 0.174\n",
      "Episodes 1640-1650\tMax Reward: 0.600\tMoving Average: 0.185\n",
      "Episodes 1650-1660\tMax Reward: 0.300\tMoving Average: 0.186\n",
      "Episodes 1660-1670\tMax Reward: 0.200\tMoving Average: 0.176\n",
      "Episodes 1670-1680\tMax Reward: 0.700\tMoving Average: 0.184\n",
      "Episodes 1680-1690\tMax Reward: 0.600\tMoving Average: 0.191\n",
      "Episodes 1690-1700\tMax Reward: 0.900\tMoving Average: 0.211\n",
      "Episodes 1700-1710\tMax Reward: 0.400\tMoving Average: 0.205\n",
      "Episodes 1710-1720\tMax Reward: 0.400\tMoving Average: 0.201\n",
      "Episodes 1720-1730\tMax Reward: 0.900\tMoving Average: 0.206\n",
      "Episodes 1730-1740\tMax Reward: 1.300\tMoving Average: 0.213\n",
      "Episodes 1740-1750\tMax Reward: 1.200\tMoving Average: 0.222\n",
      "Episodes 1750-1760\tMax Reward: 0.900\tMoving Average: 0.247\n",
      "Episodes 1760-1770\tMax Reward: 0.700\tMoving Average: 0.268\n",
      "Episodes 1770-1780\tMax Reward: 0.500\tMoving Average: 0.284\n",
      "Episodes 1780-1790\tMax Reward: 1.000\tMoving Average: 0.299\n",
      "Episodes 1790-1800\tMax Reward: 1.200\tMoving Average: 0.303\n",
      "Episodes 1800-1810\tMax Reward: 0.700\tMoving Average: 0.309\n",
      "Episodes 1810-1820\tMax Reward: 1.600\tMoving Average: 0.348\n",
      "Episodes 1820-1830\tMax Reward: 0.800\tMoving Average: 0.347\n",
      "Episodes 1830-1840\tMax Reward: 1.900\tMoving Average: 0.370\n",
      "Episodes 1840-1850\tMax Reward: 1.200\tMoving Average: 0.369\n",
      "Episodes 1850-1860\tMax Reward: 2.300\tMoving Average: 0.414\n",
      "Episodes 1860-1870\tMax Reward: 2.300\tMoving Average: 0.482\n",
      "*** Environment solved in 1776 episodes: Moving Average: 0.505 over past 100 episodes\n"
     ]
    }
   ],
   "source": [
    "# run the training loop\n",
    "scores, avgs = train_maddpg()"
   ]
  },
  {
   "cell_type": "code",
   "execution_count": 9,
   "metadata": {},
   "outputs": [
    {
     "data": {
      "image/png": "[encoded data removed]",
      "text/plain": [
       "<Figure size 432x288 with 1 Axes>"
      ]
     },
     "metadata": {
      "needs_background": "light"
     },
     "output_type": "display_data"
    }
   ],
   "source": [
    "# plot the scores\n",
    "fig = plt.figure()\n",
    "ax = fig.add_subplot(111)\n",
    "plt.plot(np.arange(len(scores)), scores, label='MADDPG')\n",
    "plt.plot(np.arange(len(scores)), avgs, c='r', label='moving avg')\n",
    "plt.ylabel('Score')\n",
    "plt.xlabel('Episode #')\n",
    "plt.legend(loc='upper left');\n",
    "plt.show()"
   ]
  },
  {
   "cell_type": "markdown",
   "metadata": {},
   "source": [
    "Test saved agent"
   ]
  },
  {
   "cell_type": "code",
   "execution_count": 10,
   "metadata": {},
   "outputs": [],
   "source": [
    "agent_0 = Agent(state_size, action_size)\n",
    "agent_1 = Agent(state_size, action_size)\n",
    "\n",
    "# load the weights from file\n",
    "agent_0_weights = 'checkpoint_actor_0.pth'\n",
    "agent_1_weights = 'checkpoint_actor_1.pth'\n",
    "agent_0.actor_local.load_state_dict(torch.load(agent_0_weights))\n",
    "agent_1.actor_local.load_state_dict(torch.load(agent_1_weights))"
   ]
  },
  {
   "cell_type": "code",
   "execution_count": 16,
   "metadata": {},
   "outputs": [],
   "source": [
    "def test_maddpg(n_episodes=10, max_t=1000) -> Tuple[List[float], List[float]]:\n",
    "    \"\"\"Testing Multi-Agent Deep Deterministic Policy Gradient (MADDPG)\n",
    "\n",
    "        :param n_episodes: maximum number of test episodes\n",
    "        :param max_t: maximum number of timesteps per episode\n",
    "    \"\"\"\n",
    "    scores_window = deque(maxlen=10)\n",
    "    scores_all = []\n",
    "    moving_average = []  \n",
    "\n",
    "    for i_episode in range(1, n_episodes+1):\n",
    "        env_info = env.reset(train_mode=False)[brain_name]         # reset the environment\n",
    "        states = np.reshape(env_info.vector_observations, (1, 48)) # get states and combine them\n",
    "        scores = np.zeros(num_agents)\n",
    "        while True:\n",
    "            actions = get_actions(states, add_noise=False)   # choose agent actions and combine them\n",
    "            env_info = env.step(actions)[brain_name]        # send both agents' actions together to the environment\n",
    "            next_states = np.reshape(env_info.vector_observations, (1, 48)) # combine the agent next states\n",
    "            rewards = env_info.rewards                         # get reward\n",
    "            done = env_info.local_done                         # see if episode finished\n",
    "            scores += np.max(rewards)                          # update the score for each agent\n",
    "            states = next_states                               # roll over states to next time step\n",
    "            if np.any(done):                                   # exit loop if episode finished\n",
    "                break\n",
    "\n",
    "        ep_best_score = np.max(scores)\n",
    "        scores_window.append(ep_best_score)\n",
    "        scores_all.append(ep_best_score)\n",
    "        moving_average.append(np.mean(scores_window))\n",
    "\n",
    "        # print results every episode\n",
    "        print('Episodes {:0>4d}-{:0>4d}\\tMax Reward: {:.3f}\\tMoving Average: {:.3f}'.format(\n",
    "            i_episode-1, i_episode, np.max(scores_all[-1:]), moving_average[-1]))\n",
    "            \n",
    "    return scores_all, moving_average"
   ]
  },
  {
   "cell_type": "code",
   "execution_count": 17,
   "metadata": {},
   "outputs": [
    {
     "name": "stdout",
     "output_type": "stream",
     "text": [
      "Episodes 0000-0001\tMax Reward: 0.300\tMoving Average: 0.300\n",
      "Episodes 0001-0002\tMax Reward: 0.300\tMoving Average: 0.300\n",
      "Episodes 0002-0003\tMax Reward: 1.500\tMoving Average: 0.700\n",
      "Episodes 0003-0004\tMax Reward: 0.400\tMoving Average: 0.625\n",
      "Episodes 0004-0005\tMax Reward: 0.600\tMoving Average: 0.620\n",
      "Episodes 0005-0006\tMax Reward: 0.300\tMoving Average: 0.567\n",
      "Episodes 0006-0007\tMax Reward: 0.900\tMoving Average: 0.614\n",
      "Episodes 0007-0008\tMax Reward: 0.300\tMoving Average: 0.575\n",
      "Episodes 0008-0009\tMax Reward: 0.300\tMoving Average: 0.544\n",
      "Episodes 0009-0010\tMax Reward: 1.000\tMoving Average: 0.590\n"
     ]
    }
   ],
   "source": [
    "scores, avgs = test_maddpg()"
   ]
  },
  {
   "cell_type": "code",
   "execution_count": 18,
   "metadata": {},
   "outputs": [
    {
     "data": {
      "image/png": "[encoded data removed]",
      "text/plain": [
       "<Figure size 432x288 with 1 Axes>"
      ]
     },
     "metadata": {
      "needs_background": "light"
     },
     "output_type": "display_data"
    }
   ],
   "source": [
    "# plot the scores\n",
    "fig = plt.figure()\n",
    "ax = fig.add_subplot(111)\n",
    "plt.plot(np.arange(len(scores)), scores, label='MADDPG')\n",
    "plt.plot(np.arange(len(scores)), avgs, c='r', label='moving avg')\n",
    "plt.ylabel('Score')\n",
    "plt.xlabel('Episode #')\n",
    "plt.legend(loc='upper left');\n",
    "plt.show()"
   ]
  },
  {
   "cell_type": "code",
   "execution_count": 19,
   "metadata": {},
   "outputs": [],
   "source": [
    "env.close()"
   ]
  }
 ],
 "metadata": {
  "kernelspec": {
   "display_name": "drlnd",
   "language": "python",
   "name": "drlnd"
  },
  "language_info": {
   "codemirror_mode": {
    "name": "ipython",
    "version": 3
   },
   "file_extension": ".py",
   "mimetype": "text/x-python",
   "name": "python",
   "nbconvert_exporter": "python",
   "pygments_lexer": "ipython3",
   "version": "3.6.9"
  }
 },
 "nbformat": 4,
 "nbformat_minor": 2
}
